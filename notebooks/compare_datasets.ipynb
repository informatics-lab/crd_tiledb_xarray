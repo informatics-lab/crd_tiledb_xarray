{
 "nbformat": 4,
 "nbformat_minor": 2,
 "metadata": {
  "language_info": {
   "name": "python",
   "codemirror_mode": {
    "name": "ipython",
    "version": 3
   },
   "version": "3.7.6-final"
  },
  "orig_nbformat": 2,
  "file_extension": ".py",
  "mimetype": "text/x-python",
  "name": "python",
  "npconvert_exporter": "python",
  "pygments_lexer": "ipython3",
  "version": 3,
  "kernelspec": {
   "name": "python37664bit67a2dbfc866a4f9e804d5b2144fa6c60",
   "display_name": "Python 3.7.6 64-bit"
  }
 },
 "cells": [
  {
   "cell_type": "code",
   "execution_count": 1,
   "metadata": {},
   "outputs": [],
   "source": [
    "import sys\n",
    "import os\n",
    "sys.path = [os.path.abspath(os.path.join(os.curdir,'..'))] + sys.path"
   ]
  },
  {
   "cell_type": "code",
   "execution_count": 2,
   "metadata": {},
   "outputs": [],
   "source": [
    "from tiledb_xarray import TileDBStore, open_tiledb\n",
    "import h5py\n",
    "import xarray as xr\n",
    "import numpy as np\n"
   ]
  },
  {
   "cell_type": "markdown",
   "metadata": {},
   "source": [
    "## TileDB"
   ]
  },
  {
   "cell_type": "code",
   "execution_count": 3,
   "metadata": {},
   "outputs": [
    {
     "data": {
      "text/html": "<pre>&lt;xarray.Dataset&gt;\nDimensions:               (bnds: 2, grid_latitude: 219, grid_longitude: 286, time: 10)\nCoordinates:\n  * bnds                  (bnds) float32 0.0 0.0\n  * grid_latitude         (grid_latitude) float32 22.88 22.66 ... -25.08\n  * grid_longitude        (grid_longitude) float32 323.48 323.7 ... 386.18002\n  * time                  (time) datetime64[ns] 1854-06-08T12:00:00 ... 1854-06-17T12:00:00\nData variables:\n    forecast_period       (time) timedelta64[ns] ...\n    forecast_period_bnds  (time, bnds) float64 ...\n    precipitation_flux    (time, grid_latitude, grid_longitude) float32 ...\n    time_bnds             (time, bnds) datetime64[ns] ...\nAttributes:\n    _NCProperties:  version=1|netcdflibversion=4.6.1|hdf5libversion=1.10.4\n    source:         Data from Met Office Unified Model\n    Conventions:    CF-1.5</pre>",
      "text/plain": "<xarray.Dataset>\nDimensions:               (bnds: 2, grid_latitude: 219, grid_longitude: 286, time: 10)\nCoordinates:\n  * bnds                  (bnds) float32 0.0 0.0\n  * grid_latitude         (grid_latitude) float32 22.88 22.66 ... -25.08\n  * grid_longitude        (grid_longitude) float32 323.48 323.7 ... 386.18002\n  * time                  (time) datetime64[ns] 1854-06-08T12:00:00 ... 1854-06-17T12:00:00\nData variables:\n    forecast_period       (time) timedelta64[ns] ...\n    forecast_period_bnds  (time, bnds) float64 ...\n    precipitation_flux    (time, grid_latitude, grid_longitude) float32 ...\n    time_bnds             (time, bnds) datetime64[ns] ...\nAttributes:\n    _NCProperties:  version=1|netcdflibversion=4.6.1|hdf5libversion=1.10.4\n    source:         Data from Met Office Unified Model\n    Conventions:    CF-1.5"
     },
     "execution_count": 3,
     "metadata": {},
     "output_type": "execute_result"
    }
   ],
   "source": [
    "TB_DS = \"../data/local.tiledb\"\n",
    "t_ds = open_tiledb(TB_DS)\n",
    "t_ds"
   ]
  },
  {
   "cell_type": "markdown",
   "metadata": {},
   "source": [
    "## NetCDF File"
   ]
  },
  {
   "cell_type": "code",
   "execution_count": 4,
   "metadata": {},
   "outputs": [
    {
     "data": {
      "text/html": "<pre>&lt;xarray.Dataset&gt;\nDimensions:                     (bnds: 2, grid_latitude: 219, grid_longitude: 286, time: 10)\nCoordinates:\n  * time                        (time) datetime64[ns] 1854-06-08T12:00:00 ... 1854-06-17T12:00:00\n  * grid_latitude               (grid_latitude) float32 22.88 22.66 ... -25.08\n  * grid_longitude              (grid_longitude) float32 323.48 ... 386.18002\n    forecast_period             (time) timedelta64[ns] ...\n    forecast_reference_time     datetime64[ns] ...\nDimensions without coordinates: bnds\nData variables:\n    precipitation_flux          (time, grid_latitude, grid_longitude) float32 ...\n    rotated_latitude_longitude  int32 ...\n    time_bnds                   (time, bnds) datetime64[ns] ...\n    forecast_period_bnds        (time, bnds) float64 ...\nAttributes:\n    source:       Data from Met Office Unified Model\n    Conventions:  CF-1.5</pre>",
      "text/plain": "<xarray.Dataset>\nDimensions:                     (bnds: 2, grid_latitude: 219, grid_longitude: 286, time: 10)\nCoordinates:\n  * time                        (time) datetime64[ns] 1854-06-08T12:00:00 ... 1854-06-17T12:00:00\n  * grid_latitude               (grid_latitude) float32 22.88 22.66 ... -25.08\n  * grid_longitude              (grid_longitude) float32 323.48 ... 386.18002\n    forecast_period             (time) timedelta64[ns] ...\n    forecast_reference_time     datetime64[ns] ...\nDimensions without coordinates: bnds\nData variables:\n    precipitation_flux          (time, grid_latitude, grid_longitude) float32 ...\n    rotated_latitude_longitude  int32 ...\n    time_bnds                   (time, bnds) datetime64[ns] ...\n    forecast_period_bnds        (time, bnds) float64 ...\nAttributes:\n    source:       Data from Met Office Unified Model\n    Conventions:  CF-1.5"
     },
     "execution_count": 4,
     "metadata": {},
     "output_type": "execute_result"
    }
   ],
   "source": [
    "\n",
    "l_ds = xr.open_dataset('../data/local.nc')\n",
    "l_ds"
   ]
  },
  {
   "cell_type": "markdown",
   "metadata": {},
   "source": [
    "## Compare"
   ]
  },
  {
   "cell_type": "code",
   "execution_count": 7,
   "metadata": {},
   "outputs": [],
   "source": [
    "\n",
    "local_data = l_ds['precipitation_flux'][0:5, 0:10, 10:20].data\n",
    "tiledb_data = t_ds['precipitation_flux'][0:5, 0:10, 10:20].data"
   ]
  },
  {
   "cell_type": "code",
   "execution_count": 8,
   "metadata": {},
   "outputs": [
    {
     "data": {
      "text/plain": "array([[[ True,  True,  True,  True,  True,  True,  True,  True,  True,\n          True],\n        [ True,  True,  True,  True,  True,  True,  True,  True,  True,\n          True],\n        [ True,  True,  True,  True,  True,  True,  True,  True,  True,\n          True],\n        [ True,  True,  True,  True,  True,  True,  True,  True,  True,\n          True],\n        [ True,  True,  True,  True,  True,  True,  True,  True,  True,\n          True],\n        [ True,  True,  True,  True,  True,  True,  True,  True,  True,\n          True],\n        [ True,  True,  True,  True,  True,  True,  True,  True,  True,\n          True],\n        [ True,  True,  True,  True,  True,  True,  True,  True,  True,\n          True],\n        [ True,  True,  True,  True,  True,  True,  True,  True,  True,\n          True],\n        [ True,  True,  True,  True,  True,  True,  True,  True,  True,\n          True]],\n\n       [[ True,  True,  True,  True,  True,  True,  True,  True,  True,\n          True],\n        [ True,  True,  True,  True,  True,  True,  True,  True,  True,\n          True],\n        [ True,  True,  True,  True,  True,  True,  True,  True,  True,\n          True],\n        [ True,  True,  True,  True,  True,  True,  True,  True,  True,\n          True],\n        [ True,  True,  True,  True,  True,  True,  True,  True,  True,\n          True],\n        [ True,  True,  True,  True,  True,  True,  True,  True,  True,\n          True],\n        [ True,  True,  True,  True,  True,  True,  True,  True,  True,\n          True],\n        [ True,  True,  True,  True,  True,  True,  True,  True,  True,\n          True],\n        [ True,  True,  True,  True,  True,  True,  True,  True,  True,\n          True],\n        [ True,  True,  True,  True,  True,  True,  True,  True,  True,\n          True]],\n\n       [[ True,  True,  True,  True,  True,  True,  True,  True,  True,\n          True],\n        [ True,  True,  True,  True,  True,  True,  True,  True,  True,\n          True],\n        [ True,  True,  True,  True,  True,  True,  True,  True,  True,\n          True],\n        [ True,  True,  True,  True,  True,  True,  True,  True,  True,\n          True],\n        [ True,  True,  True,  True,  True,  True,  True,  True,  True,\n          True],\n        [ True,  True,  True,  True,  True,  True,  True,  True,  True,\n          True],\n        [ True,  True,  True,  True,  True,  True,  True,  True,  True,\n          True],\n        [ True,  True,  True,  True,  True,  True,  True,  True,  True,\n          True],\n        [ True,  True,  True,  True,  True,  True,  True,  True,  True,\n          True],\n        [ True,  True,  True,  True,  True,  True,  True,  True,  True,\n          True]],\n\n       [[ True,  True,  True,  True,  True,  True,  True,  True,  True,\n          True],\n        [ True,  True,  True,  True,  True,  True,  True,  True,  True,\n          True],\n        [ True,  True,  True,  True,  True,  True,  True,  True,  True,\n          True],\n        [ True,  True,  True,  True,  True,  True,  True,  True,  True,\n          True],\n        [ True,  True,  True,  True,  True,  True,  True,  True,  True,\n          True],\n        [ True,  True,  True,  True,  True,  True,  True,  True,  True,\n          True],\n        [ True,  True,  True,  True,  True,  True,  True,  True,  True,\n          True],\n        [ True,  True,  True,  True,  True,  True,  True,  True,  True,\n          True],\n        [ True,  True,  True,  True,  True,  True,  True,  True,  True,\n          True],\n        [ True,  True,  True,  True,  True,  True,  True,  True,  True,\n          True]],\n\n       [[ True,  True,  True,  True,  True,  True,  True,  True,  True,\n          True],\n        [ True,  True,  True,  True,  True,  True,  True,  True,  True,\n          True],\n        [ True,  True,  True,  True,  True,  True,  True,  True,  True,\n          True],\n        [ True,  True,  True,  True,  True,  True,  True,  True,  True,\n          True],\n        [ True,  True,  True,  True,  True,  True,  True,  True,  True,\n          True],\n        [ True,  True,  True,  True,  True,  True,  True,  True,  True,\n          True],\n        [ True,  True,  True,  True,  True,  True,  True,  True,  True,\n          True],\n        [ True,  True,  True,  True,  True,  True,  True,  True,  True,\n          True],\n        [ True,  True,  True,  True,  True,  True,  True,  True,  True,\n          True],\n        [ True,  True,  True,  True,  True,  True,  True,  True,  True,\n          True]]])"
     },
     "execution_count": 8,
     "metadata": {},
     "output_type": "execute_result"
    }
   ],
   "source": [
    "local_data == tiledb_data"
   ]
  },
  {
   "cell_type": "code",
   "execution_count": 9,
   "metadata": {},
   "outputs": [
    {
     "name": "stdout",
     "output_type": "stream",
     "text": "*** Yay data match! ***\n"
    }
   ],
   "source": [
    "\n",
    "assert np.all(local_data == tiledb_data)\n",
    "print(\"*** Yay data match! ***\")"
   ]
  },
  {
   "cell_type": "code",
   "execution_count": null,
   "metadata": {},
   "outputs": [],
   "source": []
  }
 ]
}