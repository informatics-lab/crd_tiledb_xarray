{
 "cells": [
  {
   "cell_type": "code",
   "execution_count": 1,
   "metadata": {},
   "outputs": [],
   "source": [
    "import sys\n",
    "import os\n",
    "sys.path = [os.path.abspath(os.path.join(os.curdir,'..'))] + sys.path"
   ]
  },
  {
   "cell_type": "code",
   "execution_count": 4,
   "metadata": {},
   "outputs": [
    {
     "name": "stdout",
     "output_type": "stream",
     "text": [
      "<xarray.Dataset>\n",
      "Dimensions:               (bnds: 2, grid_latitude: 219, grid_longitude: 286, time: 10)\n",
      "Coordinates:\n",
      "  * bnds                  (bnds) float32 0.0 0.0\n",
      "  * grid_latitude         (grid_latitude) float32 22.88 22.66 ... -25.08\n",
      "  * grid_longitude        (grid_longitude) float32 323.48 323.7 ... 386.18002\n",
      "  * time                  (time) datetime64[ns] 1854-06-08T12:00:00 ... 1854-06-17T12:00:00\n",
      "Data variables:\n",
      "    forecast_period       (time) timedelta64[ns] ...\n",
      "    forecast_period_bnds  (time, bnds) float64 ...\n",
      "    precipitation_flux    (time, grid_latitude, grid_longitude) float32 ...\n",
      "    time_bnds             (time, bnds) datetime64[ns] ...\n",
      "Attributes:\n",
      "    _NCProperties:  version=1|netcdflibversion=4.6.1|hdf5libversion=1.10.4\n",
      "    source:         Data from Met Office Unified Model\n",
      "    Conventions:    CF-1.5\n",
      "/\\ tiledb /\\\n",
      "--------------\n",
      "\\/ netcdf \\/\n",
      "<xarray.Dataset>\n",
      "Dimensions:                     (bnds: 2, grid_latitude: 219, grid_longitude: 286, time: 10)\n",
      "Coordinates:\n",
      "  * time                        (time) datetime64[ns] 1854-06-08T12:00:00 ... 1854-06-17T12:00:00\n",
      "  * grid_latitude               (grid_latitude) float32 22.88 22.66 ... -25.08\n",
      "  * grid_longitude              (grid_longitude) float32 323.48 ... 386.18002\n",
      "    forecast_period             (time) timedelta64[ns] ...\n",
      "    forecast_reference_time     datetime64[ns] ...\n",
      "Dimensions without coordinates: bnds\n",
      "Data variables:\n",
      "    precipitation_flux          (time, grid_latitude, grid_longitude) float32 ...\n",
      "    rotated_latitude_longitude  int32 ...\n",
      "    time_bnds                   (time, bnds) datetime64[ns] ...\n",
      "    forecast_period_bnds        (time, bnds) float64 ...\n",
      "Attributes:\n",
      "    source:       Data from Met Office Unified Model\n",
      "    Conventions:  CF-1.5\n",
      "*** Yay data match! ***\n"
     ]
    }
   ],
   "source": [
    "from tiledb_xarray import TileDBStore, open_tiledb\n",
    "import h5py\n",
    "import xarray as xr\n",
    "import numpy as np\n",
    "\n",
    "TB_DS = \"../data/local.tiledb\"\n",
    "\n",
    "# store = TileDBStore.open_group(TB_DS)\n",
    "# print(store)\n",
    "\n",
    "# vars = store.get_variables()\n",
    "# print(vars)\n",
    "\n",
    "t_ds = open_tiledb(TB_DS)\n",
    "print(t_ds)\n",
    "\n",
    "print(\"/\\\\ tiledb /\\\\\")\n",
    "print(\"--------------\")\n",
    "print(\"\\\\/ netcdf \\\\/\")\n",
    "l_ds = xr.open_dataset('../data/local.nc')\n",
    "print(l_ds)\n",
    "\n",
    "local_data = l_ds['precipitation_flux'][0:5, 0:10, 10:20].data\n",
    "tiledb_data = t_ds['precipitation_flux'][0:5, 0:10, 10:20].data\n",
    "\n",
    "assert np.all(local_data == tiledb_data)\n",
    "print(\"*** Yay data match! ***\")\n"
   ]
  },
  {
   "cell_type": "code",
   "execution_count": null,
   "metadata": {},
   "outputs": [],
   "source": []
  }
 ],
 "metadata": {
  "kernelspec": {
   "display_name": "Python 3.7",
   "language": "python",
   "name": "py3.7"
  },
  "language_info": {
   "codemirror_mode": {
    "name": "ipython",
    "version": 3
   },
   "file_extension": ".py",
   "mimetype": "text/x-python",
   "name": "python",
   "nbconvert_exporter": "python",
   "pygments_lexer": "ipython3",
   "version": "3.7.6"
  }
 },
 "nbformat": 4,
 "nbformat_minor": 4
}
