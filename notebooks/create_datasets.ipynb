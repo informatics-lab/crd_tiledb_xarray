{
 "nbformat": 4,
 "nbformat_minor": 2,
 "metadata": {
  "language_info": {
   "name": "python",
   "codemirror_mode": {
    "name": "ipython",
    "version": 3
   },
   "version": "3.7.6-final"
  },
  "orig_nbformat": 2,
  "file_extension": ".py",
  "mimetype": "text/x-python",
  "name": "python",
  "npconvert_exporter": "python",
  "pygments_lexer": "ipython3",
  "version": 3,
  "kernelspec": {
   "name": "python37664bitpy37condaa9cb9add6fde46108b059d81152d2f41",
   "display_name": "Python 3.7.6 64-bit ('py3.7': conda)"
  }
 },
 "cells": [
  {
   "cell_type": "code",
   "execution_count": 4,
   "metadata": {},
   "outputs": [],
   "source": [
    "import sys\n",
    "import os\n",
    "sys.path = [os.path.abspath(os.path.join(os.curdir,'..'))] + sys.path"
   ]
  },
  {
   "cell_type": "code",
   "execution_count": 5,
   "metadata": {},
   "outputs": [],
   "source": [
    "from tiledb_xarray import TileDBDataSetBuilder"
   ]
  },
  {
   "cell_type": "code",
   "execution_count": 6,
   "metadata": {},
   "outputs": [],
   "source": [
    "DATA_DIR = os.path.abspath(os.path.join(os.curdir,'..', 'data'))\n",
    "in_file = os.path.join(DATA_DIR, \"local.nc\")"
   ]
  },
  {
   "cell_type": "markdown",
   "execution_count": null,
   "metadata": {},
   "outputs": [],
   "source": [
    "## Create - Zarr dataset"
   ]
  },
  {
   "cell_type": "code",
   "execution_count": 7,
   "metadata": {},
   "outputs": [],
   "source": [
    "import xarray as xr"
   ]
  },
  {
   "cell_type": "code",
   "execution_count": 8,
   "metadata": {},
   "outputs": [],
   "source": [
    "zarr_out_path = os.path.join(DATA_DIR, \"local.zarr\")\n",
    "!rm -rf {zarr_out_path}\n",
    "ds = xr.open_dataset(in_file)\n",
    "ds.to_zarr(zarr_out_path)\n",
    "ds.close()"
   ]
  },
  {
   "cell_type": "markdown",
   "execution_count": null,
   "metadata": {},
   "outputs": [],
   "source": [
    "## Create - Tile DB dataset"
   ]
  },
  {
   "cell_type": "code",
   "execution_count": 9,
   "metadata": {},
   "outputs": [
    {
     "name": "stdout",
     "output_type": "stream",
     "text": "group <HDF5 file \"local.nc\" (mode r)> type <class 'h5py._hl.files.File'>\ngroup name /\nmade_group / at /Users/theo/repos/crd_tiledb_xarray/data/local.tiledb/\nwrote group attrs for /\nmake ds bnds in group None\nmake ds forecast_period in group None\nmake ds forecast_period_bnds in group None\nmake ds forecast_reference_time in group None\nmake ds grid_latitude in group None\nmake ds grid_longitude in group None\nmake ds precipitation_flux in group None\nmake ds rotated_latitude_longitude in group None\nmake ds time in group None\nmake ds time_bnds in group None\n"
    }
   ],
   "source": [
    "tiledb_out_path = os.path.join(DATA_DIR, \"local.tiledb\")\n",
    "\n",
    "! rm -rf {tiledb_out_path}\n",
    "builder = TileDBDataSetBuilder(tiledb_out_path, in_file)\n",
    "builder.build()\n",
    "builder.close()"
   ]
  },
  {
   "cell_type": "code",
   "execution_count": null,
   "metadata": {},
   "outputs": [],
   "source": []
  }
 ]
}