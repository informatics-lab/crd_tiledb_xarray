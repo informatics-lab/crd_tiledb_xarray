{
 "cells": [
  {
   "cell_type": "code",
   "execution_count": 1,
   "metadata": {},
   "outputs": [],
   "source": [
    "import sys\n",
    "import os\n",
    "sys.path = [os.path.abspath(os.path.join(os.curdir,'..'))] + sys.path"
   ]
  },
  {
   "cell_type": "code",
   "execution_count": 2,
   "metadata": {},
   "outputs": [],
   "source": [
    "from tiledb_xarray import TileDBDataSetBuilder"
   ]
  },
  {
   "cell_type": "code",
   "execution_count": 3,
   "metadata": {},
   "outputs": [],
   "source": [
    "DATA_DIR = os.path.abspath(os.path.join(os.curdir,'..', 'data'))\n",
    "in_file = os.path.join(DATA_DIR, \"local.nc\")"
   ]
  },
  {
   "cell_type": "markdown",
   "metadata": {},
   "source": [
    "## Create - Zarr dataset"
   ]
  },
  {
   "cell_type": "code",
   "execution_count": 4,
   "metadata": {},
   "outputs": [],
   "source": [
    "import xarray as xr"
   ]
  },
  {
   "cell_type": "code",
   "execution_count": 5,
   "metadata": {},
   "outputs": [],
   "source": [
    "zarr_out_path = os.path.join(DATA_DIR, \"local.zarr\")\n",
    "!rm -rf {zarr_out_path}\n",
    "ds = xr.open_dataset(in_file)\n",
    "ds.to_zarr(zarr_out_path)\n",
    "ds.close()"
   ]
  },
  {
   "cell_type": "markdown",
   "metadata": {},
   "source": [
    "## Create - Tile DB dataset"
   ]
  },
  {
   "cell_type": "code",
   "execution_count": 6,
   "metadata": {},
   "outputs": [
    {
     "name": "stdout",
     "output_type": "stream",
     "text": [
      "group <HDF5 file \"local.nc\" (mode r)> type <class 'h5py._hl.files.File'>\n",
      "group name /\n",
      "made_group / at /home/jovyan/crd_tiledb_xarray/data/local.tiledb/\n",
      "wrote group attrs for /\n",
      "make ds bnds in group None\n",
      "make ds forecast_period in group None\n",
      "make ds forecast_period_bnds in group None\n",
      "make ds forecast_reference_time in group None\n",
      "make ds grid_latitude in group None\n",
      "make ds grid_longitude in group None\n",
      "make ds precipitation_flux in group None\n",
      "make ds rotated_latitude_longitude in group None\n",
      "make ds time in group None\n",
      "make ds time_bnds in group None\n"
     ]
    }
   ],
   "source": [
    "tiledb_out_path = os.path.join(DATA_DIR, \"local.tiledb\")\n",
    "\n",
    "! rm -rf {tiledb_out_path}\n",
    "builder = TileDBDataSetBuilder(tiledb_out_path, in_file)\n",
    "builder.build()\n",
    "builder.close()"
   ]
  },
  {
   "cell_type": "code",
   "execution_count": null,
   "metadata": {},
   "outputs": [],
   "source": []
  }
 ],
 "metadata": {
  "file_extension": ".py",
  "kernelspec": {
   "display_name": "Python 3.7",
   "language": "python",
   "name": "py3.7"
  },
  "language_info": {
   "codemirror_mode": {
    "name": "ipython",
    "version": 3
   },
   "file_extension": ".py",
   "mimetype": "text/x-python",
   "name": "python",
   "nbconvert_exporter": "python",
   "pygments_lexer": "ipython3",
   "version": "3.7.6"
  },
  "mimetype": "text/x-python",
  "name": "python",
  "npconvert_exporter": "python",
  "pygments_lexer": "ipython3",
  "version": 3
 },
 "nbformat": 4,
 "nbformat_minor": 4
}
