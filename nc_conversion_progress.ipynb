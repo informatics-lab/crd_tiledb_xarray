{
 "cells": [
  {
   "cell_type": "code",
   "execution_count": 7,
   "metadata": {},
   "outputs": [
    {
     "name": "stdout",
     "output_type": "stream",
     "text": [
      "6hrly\n",
      "5850\n",
      "5839\n",
      "\n",
      "\n"
     ]
    }
   ],
   "source": [
    "dirs =  [ '6hrly']#['3hrly',  '6hrly',  'daily'  ,'hourly' ,'monthly']\n",
    "for dir in dirs:\n",
    "    print(dir)\n",
    "    ! ls /data/cssp-china/mini-dataset-24-01-19/20CR/{dir} | wc -l\n",
    "    ! ls /data/cssp-china/mini-dataset-24-01-19/nc/{dir} | wc -l\n",
    "    print('\\n')"
   ]
  },
  {
   "cell_type": "markdown",
   "metadata": {},
   "source": [
    "5839 6hrly @ 1056"
   ]
  },
  {
   "cell_type": "code",
   "execution_count": null,
   "metadata": {},
   "outputs": [],
   "source": []
  }
 ],
 "metadata": {
  "kernelspec": {
   "display_name": "Python 3.7",
   "language": "python",
   "name": "py3.7"
  },
  "language_info": {
   "codemirror_mode": {
    "name": "ipython",
    "version": 3
   },
   "file_extension": ".py",
   "mimetype": "text/x-python",
   "name": "python",
   "nbconvert_exporter": "python",
   "pygments_lexer": "ipython3",
   "version": "3.7.6"
  }
 },
 "nbformat": 4,
 "nbformat_minor": 4
}
