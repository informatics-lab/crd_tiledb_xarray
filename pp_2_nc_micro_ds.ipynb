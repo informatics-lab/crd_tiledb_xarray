{
 "cells": [
  {
   "cell_type": "code",
   "execution_count": 1,
   "metadata": {},
   "outputs": [],
   "source": [
    "import iris\n",
    "import os\n",
    "import shutil\n",
    "import dask"
   ]
  },
  {
   "cell_type": "code",
   "execution_count": 2,
   "metadata": {},
   "outputs": [],
   "source": [
    "SAMPLE_DATA_PATH=\"/data/cssp-china/sample-data-17-01-20/cssp_china_pp\""
   ]
  },
  {
   "cell_type": "code",
   "execution_count": 3,
   "metadata": {},
   "outputs": [],
   "source": [
    "files = [os.path.join(SAMPLE_DATA_PATH, f) for f in os.listdir(SAMPLE_DATA_PATH)]"
   ]
  },
  {
   "cell_type": "code",
   "execution_count": null,
   "metadata": {},
   "outputs": [],
   "source": [
    "# %%time\n",
    "# iris.load(files[5],iris.AttributeConstraint(STASH='m01s16i203') )"
   ]
  },
  {
   "cell_type": "code",
   "execution_count": null,
   "metadata": {},
   "outputs": [],
   "source": [
    "# c = [c for c in cubes if 'air_temperature' in c.name()][3]"
   ]
  },
  {
   "cell_type": "code",
   "execution_count": null,
   "metadata": {},
   "outputs": [],
   "source": [
    "# c"
   ]
  },
  {
   "cell_type": "code",
   "execution_count": null,
   "metadata": {},
   "outputs": [],
   "source": [
    "cubes = iris.load(files[1])\n"
   ]
  },
  {
   "cell_type": "code",
   "execution_count": 4,
   "metadata": {},
   "outputs": [],
   "source": [
    "PARAM_NAME = 'air_temperature_mean_at_pressure_levels' # \"precipitation_flux\"\n",
    "PARAM_CONSTRAINT = iris.AttributeConstraint(STASH='m01s16i203')  # \"precipitation_flux\""
   ]
  },
  {
   "cell_type": "code",
   "execution_count": 5,
   "metadata": {},
   "outputs": [],
   "source": [
    "from dask import bag as db"
   ]
  },
  {
   "cell_type": "code",
   "execution_count": 6,
   "metadata": {},
   "outputs": [
    {
     "data": {
      "text/plain": [
       "Paths(old='/data/cssp-china/sample-data-17-01-20/cssp_china_pp/apepda.pa508i0.pp', new='/data/cssp-china/sample-data-17-01-20/cssp_china_pp_nc/air_temperature_mean_at_pressure_levels/air_temperature_mean_at_pressure_levels_apepda.pa508i0.nc')"
      ]
     },
     "execution_count": 6,
     "metadata": {},
     "output_type": "execute_result"
    }
   ],
   "source": [
    "from collections import namedtuple\n",
    "\n",
    "Paths = namedtuple('Paths',['old','new'])\n",
    "def get_new_and_old_path(path, param_name):\n",
    "    filename = os.path.basename(path)\n",
    "    new_filename = filename[:-2] + 'nc' if filename[-2:].lower() == 'pp' else filename + '.nc'\n",
    "    new_filename = f\"{param_name}_{new_filename}\"\n",
    "    old_dir = os.path.dirname(path)\n",
    "    new_dir = old_dir[:-2] + 'nc' if old_dir[:-2].lower() == 'pp' else old_dir + '_nc'\n",
    "    new_path = os.path.join(new_dir, param_name, new_filename)\n",
    "    return Paths(path, new_path)\n",
    "\n",
    "eg_path = get_new_and_old_path(files[0],PARAM_NAME )\n",
    "eg_path"
   ]
  },
  {
   "cell_type": "code",
   "execution_count": 7,
   "metadata": {},
   "outputs": [
    {
     "data": {
      "text/plain": [
       "True"
      ]
     },
     "execution_count": 7,
     "metadata": {},
     "output_type": "execute_result"
    }
   ],
   "source": [
    "def not_converted(paths):\n",
    "    return not os.path.exists(paths.new)\n",
    "\n",
    "not_converted(eg_path)"
   ]
  },
  {
   "cell_type": "code",
   "execution_count": 8,
   "metadata": {},
   "outputs": [],
   "source": [
    "paths = eg_path"
   ]
  },
  {
   "cell_type": "code",
   "execution_count": 9,
   "metadata": {},
   "outputs": [
    {
     "data": {
      "text/plain": [
       "Paths(old='/data/cssp-china/sample-data-17-01-20/cssp_china_pp/apepda.pa508i0.pp', new='/data/cssp-china/sample-data-17-01-20/cssp_china_pp_nc/air_temperature_mean_at_pressure_levels/air_temperature_mean_at_pressure_levels_apepda.pa508i0.nc')"
      ]
     },
     "execution_count": 9,
     "metadata": {},
     "output_type": "execute_result"
    }
   ],
   "source": [
    "paths"
   ]
  },
  {
   "cell_type": "code",
   "execution_count": null,
   "metadata": {
    "jupyter": {
     "source_hidden": true
    }
   },
   "outputs": [],
   "source": [
    "# import shutil\n",
    "# import dask\n",
    "# def local_convert(paths):\n",
    "#     tmp_path = '/tmp/'+os.path.basename(paths.old)\n",
    "#     tmp_path_new = '/tmp/'+os.path.basename(paths.new)\n",
    "#     shutil.copy(paths.old, tmp_path)\n",
    "    \n",
    "#     with dask.config.set(scheduler='single-threaded'):\n",
    "#         precipitation_flux\n",
    "#         iris.fileformats.netcdf.save(cube, tmp_path_new, zlib=True, complevel=2)\n",
    "    \n",
    "    \n",
    "#     shutil.copy(tmp_path_new, paths.new)\n",
    "    \n",
    "#     try:\n",
    "#         os.remove(tmp_path_new)\n",
    "#     except Exception:\n",
    "#         print(f\"could not delete {tmp_path_new}\")\n",
    "              \n",
    "#     try:\n",
    "#         os.remove(tmp_path)\n",
    "#     except Exception:\n",
    "#         print(f\"could not delete {tmp_path}\")\n",
    "\n",
    "#     return paths"
   ]
  },
  {
   "cell_type": "code",
   "execution_count": 10,
   "metadata": {},
   "outputs": [],
   "source": [
    "from pathlib import Path\n",
    "def convert(paths, param_constraint):\n",
    "    with dask.config.set(scheduler='single-threaded'):\n",
    "        cubes = iris.load(paths.old, param_constraint)\n",
    "        Path(os.path.dirname(paths.new)).mkdir(parents=True, exist_ok=True)\n",
    "        iris.fileformats.netcdf.save(cubes, paths.new, zlib=True, complevel=2)\n",
    "        return paths"
   ]
  },
  {
   "cell_type": "code",
   "execution_count": null,
   "metadata": {},
   "outputs": [],
   "source": [
    "%%time\n",
    "convert(eg_path, PARAM_CONSTRAINT)"
   ]
  },
  {
   "cell_type": "code",
   "execution_count": null,
   "metadata": {},
   "outputs": [],
   "source": [
    "# %%time\n",
    "# local_convert(eg_path)PARAM_CONSTRAINT"
   ]
  },
  {
   "cell_type": "code",
   "execution_count": 11,
   "metadata": {},
   "outputs": [],
   "source": [
    "import distributed\n",
    "import dask\n",
    "from dask_kubernetes import KubeCluster\n",
    "from dask import array as da\n",
    "\n",
    "from dask.diagnostics import ProgressBar\n",
    "\n",
    "from functools import partial\n",
    "\n"
   ]
  },
  {
   "cell_type": "code",
   "execution_count": 15,
   "metadata": {},
   "outputs": [
    {
     "data": {
      "text/plain": [
       "dask.bag<convert..., npartitions=116>"
      ]
     },
     "execution_count": 15,
     "metadata": {},
     "output_type": "execute_result"
    }
   ],
   "source": [
    "conversion = db.from_sequence(files).map(partial(get_new_and_old_path, param_name=PARAM_NAME)).filter(not_converted).map(partial(convert, param_constraint=PARAM_CONSTRAINT))\n",
    "conversion"
   ]
  },
  {
   "cell_type": "code",
   "execution_count": 13,
   "metadata": {
    "collapsed": true,
    "jupyter": {
     "outputs_hidden": true
    }
   },
   "outputs": [
    {
     "name": "stderr",
     "output_type": "stream",
     "text": [
      "distributed.dashboard.proxy - INFO - To route to workers diagnostics web server please install jupyter-server-proxy: pip install jupyter-server-proxy\n",
      "distributed.scheduler - INFO - Clear task state\n",
      "distributed.scheduler - INFO -   Scheduler at:  tcp://10.244.0.245:40829\n",
      "distributed.scheduler - INFO -   dashboard at:                     :8787\n"
     ]
    },
    {
     "data": {
      "application/vnd.jupyter.widget-view+json": {
       "model_id": "db236eea93344ec99ba49db772e6ade9",
       "version_major": 2,
       "version_minor": 0
      },
      "text/plain": [
       "VBox(children=(HTML(value='<h2>KubeCluster</h2>'), HBox(children=(HTML(value='\\n<div>\\n  <style scoped>\\n    .…"
      ]
     },
     "metadata": {},
     "output_type": "display_data"
    },
    {
     "name": "stderr",
     "output_type": "stream",
     "text": [
      "distributed.scheduler - INFO - Receive client connection: Client-e7c03ee2-3eba-11ea-80f8-29016b7ac06d\n",
      "distributed.core - INFO - Starting established connection\n"
     ]
    },
    {
     "data": {
      "text/html": [
       "<table style=\"border: 2px solid white;\">\n",
       "<tr>\n",
       "<td style=\"vertical-align: top; border: 0px solid white\">\n",
       "<h3 style=\"text-align: left;\">Client</h3>\n",
       "<ul style=\"text-align: left; list-style: none; margin: 0; padding: 0;\">\n",
       "  <li><b>Scheduler: </b>tcp://10.244.0.245:40829</li>\n",
       "  <li><b>Dashboard: </b><a href='/user/tam203/proxy/8787/status' target='_blank'>/user/tam203/proxy/8787/status</a>\n",
       "</ul>\n",
       "</td>\n",
       "<td style=\"vertical-align: top; border: 0px solid white\">\n",
       "<h3 style=\"text-align: left;\">Cluster</h3>\n",
       "<ul style=\"text-align: left; list-style:none; margin: 0; padding: 0;\">\n",
       "  <li><b>Workers: </b>0</li>\n",
       "  <li><b>Cores: </b>0</li>\n",
       "  <li><b>Memory: </b>0 B</li>\n",
       "</ul>\n",
       "</td>\n",
       "</tr>\n",
       "</table>"
      ],
      "text/plain": [
       "<Client: 'tcp://10.244.0.245:40829' processes=0 threads=0, memory=0 B>"
      ]
     },
     "execution_count": 13,
     "metadata": {},
     "output_type": "execute_result"
    },
    {
     "name": "stderr",
     "output_type": "stream",
     "text": [
      "distributed.scheduler - INFO - Register tcp://10.244.5.21:39523\n",
      "distributed.scheduler - INFO - Register tcp://10.244.5.20:43665\n",
      "distributed.scheduler - INFO - Register tcp://10.244.5.17:42037\n",
      "distributed.scheduler - INFO - Register tcp://10.244.5.16:35059\n",
      "distributed.scheduler - INFO - Register tcp://10.244.5.22:34883\n",
      "distributed.scheduler - INFO - Starting worker compute stream, tcp://10.244.5.21:39523\n",
      "distributed.core - INFO - Starting established connection\n",
      "distributed.scheduler - INFO - Starting worker compute stream, tcp://10.244.5.20:43665\n",
      "distributed.core - INFO - Starting established connection\n",
      "distributed.scheduler - INFO - Starting worker compute stream, tcp://10.244.5.17:42037\n",
      "distributed.core - INFO - Starting established connection\n",
      "distributed.scheduler - INFO - Starting worker compute stream, tcp://10.244.5.16:35059\n",
      "distributed.core - INFO - Starting established connection\n",
      "distributed.scheduler - INFO - Starting worker compute stream, tcp://10.244.5.22:34883\n",
      "distributed.core - INFO - Starting established connection\n",
      "distributed.scheduler - INFO - Register tcp://10.244.5.19:45375\n",
      "distributed.scheduler - INFO - Starting worker compute stream, tcp://10.244.5.19:45375\n",
      "distributed.core - INFO - Starting established connection\n",
      "distributed.scheduler - INFO - Register tcp://10.244.5.18:37967\n",
      "distributed.scheduler - INFO - Starting worker compute stream, tcp://10.244.5.18:37967\n",
      "distributed.core - INFO - Starting established connection\n",
      "distributed.scheduler - INFO - Register tcp://10.244.0.3:37361\n",
      "distributed.scheduler - INFO - Starting worker compute stream, tcp://10.244.0.3:37361\n",
      "distributed.core - INFO - Starting established connection\n",
      "distributed.scheduler - INFO - Register tcp://10.244.0.5:32985\n",
      "distributed.scheduler - INFO - Starting worker compute stream, tcp://10.244.0.5:32985\n",
      "distributed.core - INFO - Starting established connection\n",
      "distributed.scheduler - INFO - Register tcp://10.244.0.253:38489\n",
      "distributed.scheduler - INFO - Starting worker compute stream, tcp://10.244.0.253:38489\n",
      "distributed.core - INFO - Starting established connection\n",
      "distributed.scheduler - INFO - Register tcp://10.244.0.8:32775\n",
      "distributed.scheduler - INFO - Starting worker compute stream, tcp://10.244.0.8:32775\n",
      "distributed.core - INFO - Starting established connection\n",
      "distributed.scheduler - INFO - Register tcp://10.244.0.254:45457\n",
      "distributed.scheduler - INFO - Starting worker compute stream, tcp://10.244.0.254:45457\n",
      "distributed.core - INFO - Starting established connection\n",
      "distributed.scheduler - INFO - Register tcp://10.244.2.18:35091\n",
      "distributed.scheduler - INFO - Register tcp://10.244.0.19:36115\n",
      "distributed.scheduler - INFO - Starting worker compute stream, tcp://10.244.2.18:35091\n",
      "distributed.core - INFO - Starting established connection\n",
      "distributed.scheduler - INFO - Starting worker compute stream, tcp://10.244.0.19:36115\n",
      "distributed.core - INFO - Starting established connection\n",
      "distributed.scheduler - INFO - Register tcp://10.244.2.17:39737\n",
      "distributed.scheduler - INFO - Register tcp://10.244.2.16:33331\n",
      "distributed.scheduler - INFO - Starting worker compute stream, tcp://10.244.2.17:39737\n",
      "distributed.core - INFO - Starting established connection\n",
      "distributed.scheduler - INFO - Starting worker compute stream, tcp://10.244.2.16:33331\n",
      "distributed.core - INFO - Starting established connection\n",
      "distributed.scheduler - INFO - Register tcp://10.244.1.22:43405\n",
      "distributed.scheduler - INFO - Register tcp://10.244.1.16:44337\n",
      "distributed.scheduler - INFO - Register tcp://10.244.1.17:44547\n",
      "distributed.scheduler - INFO - Register tcp://10.244.1.19:37073\n",
      "distributed.scheduler - INFO - Register tcp://10.244.1.18:34471\n",
      "distributed.scheduler - INFO - Register tcp://10.244.1.20:41967\n",
      "distributed.scheduler - INFO - Register tcp://10.244.1.21:45459\n",
      "distributed.scheduler - INFO - Register tcp://10.244.1.23:40903\n",
      "distributed.scheduler - INFO - Starting worker compute stream, tcp://10.244.1.22:43405\n",
      "distributed.core - INFO - Starting established connection\n",
      "distributed.scheduler - INFO - Starting worker compute stream, tcp://10.244.1.16:44337\n",
      "distributed.core - INFO - Starting established connection\n",
      "distributed.scheduler - INFO - Starting worker compute stream, tcp://10.244.1.17:44547\n",
      "distributed.core - INFO - Starting established connection\n",
      "distributed.scheduler - INFO - Starting worker compute stream, tcp://10.244.1.19:37073\n",
      "distributed.core - INFO - Starting established connection\n",
      "distributed.scheduler - INFO - Starting worker compute stream, tcp://10.244.1.18:34471\n",
      "distributed.core - INFO - Starting established connection\n",
      "distributed.scheduler - INFO - Starting worker compute stream, tcp://10.244.1.20:41967\n",
      "distributed.core - INFO - Starting established connection\n",
      "distributed.scheduler - INFO - Starting worker compute stream, tcp://10.244.1.21:45459\n",
      "distributed.core - INFO - Starting established connection\n",
      "distributed.scheduler - INFO - Starting worker compute stream, tcp://10.244.1.23:40903\n",
      "distributed.core - INFO - Starting established connection\n",
      "distributed.scheduler - INFO - Register tcp://10.244.2.19:45459\n",
      "distributed.scheduler - INFO - Starting worker compute stream, tcp://10.244.2.19:45459\n",
      "distributed.core - INFO - Starting established connection\n",
      "distributed.scheduler - INFO - Register tcp://10.244.1.24:35505\n",
      "distributed.scheduler - INFO - Starting worker compute stream, tcp://10.244.1.24:35505\n",
      "distributed.core - INFO - Starting established connection\n",
      "distributed.scheduler - INFO - Register tcp://10.244.2.21:43067\n",
      "distributed.scheduler - INFO - Register tcp://10.244.2.20:33471\n",
      "distributed.scheduler - INFO - Starting worker compute stream, tcp://10.244.2.21:43067\n",
      "distributed.core - INFO - Starting established connection\n",
      "distributed.scheduler - INFO - Starting worker compute stream, tcp://10.244.2.20:33471\n",
      "distributed.core - INFO - Starting established connection\n",
      "distributed.scheduler - INFO - Register tcp://10.244.0.20:39493\n",
      "distributed.scheduler - INFO - Starting worker compute stream, tcp://10.244.0.20:39493\n",
      "distributed.core - INFO - Starting established connection\n",
      "distributed.scheduler - INFO - Register tcp://10.244.3.17:38921\n",
      "distributed.scheduler - INFO - Register tcp://10.244.3.22:46301\n",
      "distributed.scheduler - INFO - Register tcp://10.244.3.23:35305\n",
      "distributed.scheduler - INFO - Register tcp://10.244.3.20:43885\n",
      "distributed.scheduler - INFO - Register tcp://10.244.3.24:43465\n",
      "distributed.scheduler - INFO - Register tcp://10.244.3.16:43231\n",
      "distributed.scheduler - INFO - Register tcp://10.244.3.18:45543\n",
      "distributed.scheduler - INFO - Register tcp://10.244.3.21:37595\n",
      "distributed.scheduler - INFO - Register tcp://10.244.3.19:40741\n",
      "distributed.scheduler - INFO - Starting worker compute stream, tcp://10.244.3.17:38921\n",
      "distributed.core - INFO - Starting established connection\n",
      "distributed.scheduler - INFO - Starting worker compute stream, tcp://10.244.3.22:46301\n",
      "distributed.core - INFO - Starting established connection\n",
      "distributed.scheduler - INFO - Starting worker compute stream, tcp://10.244.3.23:35305\n",
      "distributed.core - INFO - Starting established connection\n",
      "distributed.scheduler - INFO - Starting worker compute stream, tcp://10.244.3.20:43885\n",
      "distributed.core - INFO - Starting established connection\n",
      "distributed.scheduler - INFO - Starting worker compute stream, tcp://10.244.3.24:43465\n",
      "distributed.core - INFO - Starting established connection\n",
      "distributed.scheduler - INFO - Starting worker compute stream, tcp://10.244.3.16:43231\n",
      "distributed.core - INFO - Starting established connection\n",
      "distributed.scheduler - INFO - Starting worker compute stream, tcp://10.244.3.18:45543\n",
      "distributed.core - INFO - Starting established connection\n",
      "distributed.scheduler - INFO - Starting worker compute stream, tcp://10.244.3.21:37595\n",
      "distributed.core - INFO - Starting established connection\n",
      "distributed.scheduler - INFO - Starting worker compute stream, tcp://10.244.3.19:40741\n",
      "distributed.core - INFO - Starting established connection\n",
      "distributed.scheduler - INFO - Register tcp://10.244.2.24:35951\n",
      "distributed.scheduler - INFO - Register tcp://10.244.2.23:36589\n",
      "distributed.scheduler - INFO - Register tcp://10.244.2.22:40897\n",
      "distributed.scheduler - INFO - Starting worker compute stream, tcp://10.244.2.24:35951\n",
      "distributed.core - INFO - Starting established connection\n",
      "distributed.scheduler - INFO - Starting worker compute stream, tcp://10.244.2.23:36589\n",
      "distributed.core - INFO - Starting established connection\n",
      "distributed.scheduler - INFO - Starting worker compute stream, tcp://10.244.2.22:40897\n",
      "distributed.core - INFO - Starting established connection\n",
      "distributed.scheduler - INFO - Register tcp://10.244.5.23:42317\n",
      "distributed.scheduler - INFO - Starting worker compute stream, tcp://10.244.5.23:42317\n",
      "distributed.core - INFO - Starting established connection\n",
      "distributed.scheduler - INFO - Register tcp://10.244.4.24:42491\n",
      "distributed.scheduler - INFO - Register tcp://10.244.4.18:44957\n",
      "distributed.scheduler - INFO - Register tcp://10.244.4.17:42853\n",
      "distributed.scheduler - INFO - Register tcp://10.244.4.21:34855\n",
      "distributed.scheduler - INFO - Register tcp://10.244.4.22:44111\n",
      "distributed.scheduler - INFO - Register tcp://10.244.4.20:40061\n",
      "distributed.scheduler - INFO - Register tcp://10.244.4.23:46605\n",
      "distributed.scheduler - INFO - Starting worker compute stream, tcp://10.244.4.24:42491\n",
      "distributed.core - INFO - Starting established connection\n",
      "distributed.scheduler - INFO - Register tcp://10.244.4.19:36217\n",
      "distributed.scheduler - INFO - Starting worker compute stream, tcp://10.244.4.18:44957\n",
      "distributed.core - INFO - Starting established connection\n",
      "distributed.scheduler - INFO - Starting worker compute stream, tcp://10.244.4.17:42853\n",
      "distributed.core - INFO - Starting established connection\n",
      "distributed.scheduler - INFO - Starting worker compute stream, tcp://10.244.4.21:34855\n",
      "distributed.core - INFO - Starting established connection\n",
      "distributed.scheduler - INFO - Starting worker compute stream, tcp://10.244.4.22:44111\n",
      "distributed.core - INFO - Starting established connection\n",
      "distributed.scheduler - INFO - Starting worker compute stream, tcp://10.244.4.20:40061\n",
      "distributed.core - INFO - Starting established connection\n",
      "distributed.scheduler - INFO - Starting worker compute stream, tcp://10.244.4.23:46605\n",
      "distributed.core - INFO - Starting established connection\n",
      "distributed.scheduler - INFO - Starting worker compute stream, tcp://10.244.4.19:36217\n",
      "distributed.core - INFO - Starting established connection\n",
      "distributed.scheduler - INFO - Register tcp://10.244.2.25:38925\n",
      "distributed.scheduler - INFO - Starting worker compute stream, tcp://10.244.2.25:38925\n",
      "distributed.core - INFO - Starting established connection\n",
      "distributed.scheduler - INFO - Register tcp://10.244.4.25:41883\n",
      "distributed.scheduler - INFO - Starting worker compute stream, tcp://10.244.4.25:41883\n",
      "distributed.core - INFO - Starting established connection\n",
      "distributed.scheduler - INFO - Register tcp://10.244.5.24:38001\n",
      "distributed.scheduler - INFO - Starting worker compute stream, tcp://10.244.5.24:38001\n",
      "distributed.core - INFO - Starting established connection\n",
      "distributed.scheduler - INFO - Register tcp://10.244.5.25:45955\n",
      "distributed.scheduler - INFO - Starting worker compute stream, tcp://10.244.5.25:45955\n",
      "distributed.core - INFO - Starting established connection\n",
      "distributed.scheduler - INFO - Register tcp://10.244.3.25:44893\n",
      "distributed.scheduler - INFO - Starting worker compute stream, tcp://10.244.3.25:44893\n",
      "distributed.core - INFO - Starting established connection\n",
      "distributed.scheduler - INFO - Register tcp://10.244.1.25:38583\n",
      "distributed.scheduler - INFO - Starting worker compute stream, tcp://10.244.1.25:38583\n",
      "distributed.core - INFO - Starting established connection\n",
      "distributed.scheduler - INFO - Register tcp://10.244.4.26:46295\n",
      "distributed.scheduler - INFO - Starting worker compute stream, tcp://10.244.4.26:46295\n",
      "distributed.core - INFO - Starting established connection\n"
     ]
    }
   ],
   "source": [
    "cluster = KubeCluster()\n",
    "cluster.scale_up(100)\n",
    "display(cluster)\n",
    "# Connect dask to the cluster\n",
    "client = distributed.Client(cluster)\n",
    "client"
   ]
  },
  {
   "cell_type": "code",
   "execution_count": null,
   "metadata": {},
   "outputs": [],
   "source": []
  },
  {
   "cell_type": "code",
   "execution_count": null,
   "metadata": {},
   "outputs": [],
   "source": [
    "%%time\n",
    "with ProgressBar():\n",
    "    converted = conversion.compute()\n",
    "converted"
   ]
  },
  {
   "cell_type": "code",
   "execution_count": null,
   "metadata": {},
   "outputs": [],
   "source": [
    "!ls /data/cssp-china/sample-data-17-01-20/cssp_china_pp_nc/precipitation_flux/"
   ]
  },
  {
   "cell_type": "code",
   "execution_count": null,
   "metadata": {},
   "outputs": [],
   "source": []
  }
 ],
 "metadata": {
  "kernelspec": {
   "display_name": "Python (datasci)",
   "language": "python",
   "name": "datasci"
  },
  "language_info": {
   "codemirror_mode": {
    "name": "ipython",
    "version": 3
   },
   "file_extension": ".py",
   "mimetype": "text/x-python",
   "name": "python",
   "nbconvert_exporter": "python",
   "pygments_lexer": "ipython3",
   "version": "3.6.9"
  }
 },
 "nbformat": 4,
 "nbformat_minor": 4
}
